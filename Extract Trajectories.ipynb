{
 "cells": [
  {
   "cell_type": "code",
   "execution_count": 3,
   "metadata": {},
   "outputs": [],
   "source": [
    "# import libraries\n",
    "import pandas as pd\n",
    "import numpy as np\n",
    "import matplotlib.pyplot as plt\n",
    "import os"
   ]
  },
  {
   "cell_type": "code",
   "execution_count": null,
   "metadata": {},
   "outputs": [],
   "source": [
    "# set wd\n",
    "wd =  os.getcwd() + '/release/taxi_log_2008_by_id/'"
   ]
  },
  {
   "cell_type": "code",
   "execution_count": 81,
   "metadata": {},
   "outputs": [],
   "source": [
    "# make list of all possible day+hour\n",
    "lis = []\n",
    "for i in range(2,9):\n",
    "    for j in arr:\n",
    "        lis.append(i*100 + j)"
   ]
  },
  {
   "cell_type": "code",
   "execution_count": null,
   "metadata": {},
   "outputs": [],
   "source": [
    "# run loop to extract useful trajectories\n",
    "df_final = pd.DataFrame()\n",
    "for file in os.listdir(wd):\n",
    "    try:\n",
    "        df_main = pd.read_csv(wd + file, header = None)\n",
    "        df_main['time'] = df_main[1].apply(lambda x: int(x[8:10]+x[11:13]))\n",
    "        df_main['count'] = 1\n",
    "        argmax_obs = int(pd.concat([pd.DataFrame(index = lis ),df_main.groupby(['time'])['count'].sum()], axis=1).rolling(2).sum().idxmax())\n",
    "        argmax_hrs = [argmax_obs, argmax_obs-1]\n",
    "        df_subset = df_main[df_main['time'].isin(argmax_hrs)]\n",
    "        df_final = df_final.append(df_subset)\n",
    "        del df_subset\n",
    "        del argmax_hrs\n",
    "        del df_main\n",
    "    except:\n",
    "        pass"
   ]
  },
  {
   "cell_type": "code",
   "execution_count": 15,
   "metadata": {},
   "outputs": [
    {
     "name": "stdout",
     "output_type": "stream",
     "text": [
      "(258273, 6)\n"
     ]
    },
    {
     "data": {
      "text/html": [
       "<div>\n",
       "<style scoped>\n",
       "    .dataframe tbody tr th:only-of-type {\n",
       "        vertical-align: middle;\n",
       "    }\n",
       "\n",
       "    .dataframe tbody tr th {\n",
       "        vertical-align: top;\n",
       "    }\n",
       "\n",
       "    .dataframe thead th {\n",
       "        text-align: right;\n",
       "    }\n",
       "</style>\n",
       "<table border=\"1\" class=\"dataframe\">\n",
       "  <thead>\n",
       "    <tr style=\"text-align: right;\">\n",
       "      <th></th>\n",
       "      <th>0</th>\n",
       "      <th>1</th>\n",
       "      <th>2</th>\n",
       "      <th>3</th>\n",
       "      <th>time</th>\n",
       "      <th>count</th>\n",
       "    </tr>\n",
       "  </thead>\n",
       "  <tbody>\n",
       "    <tr>\n",
       "      <th>0</th>\n",
       "      <td>2396</td>\n",
       "      <td>2008-02-06 20:00:21</td>\n",
       "      <td>116.31790</td>\n",
       "      <td>39.88848</td>\n",
       "      <td>620</td>\n",
       "      <td>1</td>\n",
       "    </tr>\n",
       "    <tr>\n",
       "      <th>1</th>\n",
       "      <td>2396</td>\n",
       "      <td>2008-02-06 20:05:22</td>\n",
       "      <td>116.34790</td>\n",
       "      <td>39.88807</td>\n",
       "      <td>620</td>\n",
       "      <td>1</td>\n",
       "    </tr>\n",
       "    <tr>\n",
       "      <th>2</th>\n",
       "      <td>2396</td>\n",
       "      <td>2008-02-06 20:10:24</td>\n",
       "      <td>116.35255</td>\n",
       "      <td>39.88706</td>\n",
       "      <td>620</td>\n",
       "      <td>1</td>\n",
       "    </tr>\n",
       "    <tr>\n",
       "      <th>3</th>\n",
       "      <td>2396</td>\n",
       "      <td>2008-02-06 20:15:26</td>\n",
       "      <td>116.35076</td>\n",
       "      <td>39.90324</td>\n",
       "      <td>620</td>\n",
       "      <td>1</td>\n",
       "    </tr>\n",
       "    <tr>\n",
       "      <th>4</th>\n",
       "      <td>2396</td>\n",
       "      <td>2008-02-06 20:20:28</td>\n",
       "      <td>116.35767</td>\n",
       "      <td>39.94459</td>\n",
       "      <td>620</td>\n",
       "      <td>1</td>\n",
       "    </tr>\n",
       "  </tbody>\n",
       "</table>\n",
       "</div>"
      ],
      "text/plain": [
       "      0                    1          2         3  time  count\n",
       "0  2396  2008-02-06 20:00:21  116.31790  39.88848   620      1\n",
       "1  2396  2008-02-06 20:05:22  116.34790  39.88807   620      1\n",
       "2  2396  2008-02-06 20:10:24  116.35255  39.88706   620      1\n",
       "3  2396  2008-02-06 20:15:26  116.35076  39.90324   620      1\n",
       "4  2396  2008-02-06 20:20:28  116.35767  39.94459   620      1"
      ]
     },
     "execution_count": 15,
     "metadata": {},
     "output_type": "execute_result"
    }
   ],
   "source": [
    "# Extract trajectories with 20 to 60 positional records\n",
    "series = df_final.groupby(['0'])['count'].sum()\n",
    "series = series[series < 60]\n",
    "series = series[series > 20]\n",
    "df_final = df_final[df_final['0'].isin(series.index)]\n",
    "\n",
    "# view the data\n",
    "print(df_final.shape)\n",
    "df_final.head()"
   ]
  },
  {
   "cell_type": "code",
   "execution_count": 16,
   "metadata": {},
   "outputs": [
    {
     "name": "stdout",
     "output_type": "stream",
     "text": [
      "(258273, 6)\n"
     ]
    },
    {
     "data": {
      "text/html": [
       "<div>\n",
       "<style scoped>\n",
       "    .dataframe tbody tr th:only-of-type {\n",
       "        vertical-align: middle;\n",
       "    }\n",
       "\n",
       "    .dataframe tbody tr th {\n",
       "        vertical-align: top;\n",
       "    }\n",
       "\n",
       "    .dataframe thead th {\n",
       "        text-align: right;\n",
       "    }\n",
       "</style>\n",
       "<table border=\"1\" class=\"dataframe\">\n",
       "  <thead>\n",
       "    <tr style=\"text-align: right;\">\n",
       "      <th></th>\n",
       "      <th>trip_id</th>\n",
       "      <th>timestamp</th>\n",
       "      <th>long</th>\n",
       "      <th>lat</th>\n",
       "      <th>time</th>\n",
       "      <th>count</th>\n",
       "    </tr>\n",
       "  </thead>\n",
       "  <tbody>\n",
       "    <tr>\n",
       "      <th>0</th>\n",
       "      <td>2396</td>\n",
       "      <td>2008-02-06 20:00:21</td>\n",
       "      <td>116.31790</td>\n",
       "      <td>39.88848</td>\n",
       "      <td>620</td>\n",
       "      <td>1</td>\n",
       "    </tr>\n",
       "    <tr>\n",
       "      <th>1</th>\n",
       "      <td>2396</td>\n",
       "      <td>2008-02-06 20:05:22</td>\n",
       "      <td>116.34790</td>\n",
       "      <td>39.88807</td>\n",
       "      <td>620</td>\n",
       "      <td>1</td>\n",
       "    </tr>\n",
       "    <tr>\n",
       "      <th>2</th>\n",
       "      <td>2396</td>\n",
       "      <td>2008-02-06 20:10:24</td>\n",
       "      <td>116.35255</td>\n",
       "      <td>39.88706</td>\n",
       "      <td>620</td>\n",
       "      <td>1</td>\n",
       "    </tr>\n",
       "    <tr>\n",
       "      <th>3</th>\n",
       "      <td>2396</td>\n",
       "      <td>2008-02-06 20:15:26</td>\n",
       "      <td>116.35076</td>\n",
       "      <td>39.90324</td>\n",
       "      <td>620</td>\n",
       "      <td>1</td>\n",
       "    </tr>\n",
       "    <tr>\n",
       "      <th>4</th>\n",
       "      <td>2396</td>\n",
       "      <td>2008-02-06 20:20:28</td>\n",
       "      <td>116.35767</td>\n",
       "      <td>39.94459</td>\n",
       "      <td>620</td>\n",
       "      <td>1</td>\n",
       "    </tr>\n",
       "  </tbody>\n",
       "</table>\n",
       "</div>"
      ],
      "text/plain": [
       "   trip_id            timestamp       long       lat  time  count\n",
       "0     2396  2008-02-06 20:00:21  116.31790  39.88848   620      1\n",
       "1     2396  2008-02-06 20:05:22  116.34790  39.88807   620      1\n",
       "2     2396  2008-02-06 20:10:24  116.35255  39.88706   620      1\n",
       "3     2396  2008-02-06 20:15:26  116.35076  39.90324   620      1\n",
       "4     2396  2008-02-06 20:20:28  116.35767  39.94459   620      1"
      ]
     },
     "execution_count": 16,
     "metadata": {},
     "output_type": "execute_result"
    }
   ],
   "source": [
    "# rename columns\n",
    "df_final.columns = ['trip_id', 'timestamp', 'long', 'lat', 'time', 'count']\n",
    "\n",
    "# view the data\n",
    "print(df_final.shape)\n",
    "df_final.head()"
   ]
  },
  {
   "cell_type": "code",
   "execution_count": 17,
   "metadata": {},
   "outputs": [],
   "source": [
    "# save the file \n",
    "df_final.to_csv('20190425_trajectories.csv', index = False)"
   ]
  }
 ],
 "metadata": {
  "kernelspec": {
   "display_name": "skp",
   "language": "python",
   "name": "skp"
  },
  "language_info": {
   "codemirror_mode": {
    "name": "ipython",
    "version": 3
   },
   "file_extension": ".py",
   "mimetype": "text/x-python",
   "name": "python",
   "nbconvert_exporter": "python",
   "pygments_lexer": "ipython3",
   "version": "3.6.8"
  }
 },
 "nbformat": 4,
 "nbformat_minor": 2
}
